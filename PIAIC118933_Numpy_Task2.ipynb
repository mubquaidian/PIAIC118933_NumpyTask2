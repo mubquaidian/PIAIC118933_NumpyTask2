{
 "cells": [
  {
   "cell_type": "markdown",
   "metadata": {},
   "source": [
    "# CrunchieMunchies\n",
    "\n",
    "You work in marketing for a food company <b>myCorps</b>, which is developing a new kind of tasty, wholesome cereal called <b>CrunchieMunchies</b>. \n",
    "\n",
    "You want to demonstrate to consumers how healthy your cereal is in comparison to other leading brands, so you’ve dug up nutritional data on several different competitors.\n",
    "\n",
    "Your task is to use <em>NumPy statistical calculations</em> to analyze this data and prove that your <b>CrunchieMunchies</b> is the healthiest choice for consumers.\n",
    "\n",
    "\n",
    "\n",
    "\n"
   ]
  },
  {
   "cell_type": "markdown",
   "metadata": {},
   "source": [
    "# Task STEPS\n"
   ]
  },
  {
   "cell_type": "markdown",
   "metadata": {},
   "source": [
    "1.First, import numpy."
   ]
  },
  {
   "cell_type": "code",
   "execution_count": 8,
   "metadata": {},
   "outputs": [],
   "source": [
    "# your code goes here\n",
    "\n",
    "import numpy as np"
   ]
  },
  {
   "cell_type": "markdown",
   "metadata": {},
   "source": [
    "2.Look over the <b><em>cereal.csv</em></b> file. This file contains the reported calorie amounts for different cereal brands. Load the data from the file and save it as <b><em>calorie_stats.</em></b>\n",
    "\n"
   ]
  },
  {
   "cell_type": "code",
   "execution_count": 9,
   "metadata": {},
   "outputs": [
    {
     "data": {
      "text/plain": [
       "array([ 70., 120.,  70.,  50., 110., 110., 110., 130.,  90.,  90., 120.,\n",
       "       110., 120., 110., 110., 110., 100., 110., 110., 110., 100., 110.,\n",
       "       100., 100., 110., 110., 100., 120., 120., 110., 100., 110., 100.,\n",
       "       110., 120., 120., 110., 110., 110., 140., 110., 100., 110., 100.,\n",
       "       150., 150., 160., 100., 120., 140.,  90., 130., 120., 100.,  50.,\n",
       "        50., 100., 100., 120., 100.,  90., 110., 110.,  80.,  90.,  90.,\n",
       "       110., 110.,  90., 110., 140., 100., 110., 110., 100., 100., 110.])"
      ]
     },
     "execution_count": 9,
     "metadata": {},
     "output_type": "execute_result"
    }
   ],
   "source": [
    "# your code goes here\n",
    "# importing genfromtxt module from numpy lib to read cereal.csv\n",
    "\n",
    "from numpy import genfromtxt\n",
    "calorie_stats = genfromtxt('cereal.csv', delimiter=',')\n",
    "calorie_stats = np.array(calorie_stats)\n",
    "calorie_stats"
   ]
  },
  {
   "cell_type": "markdown",
   "metadata": {},
   "source": [
    "3.There are <em>60 calories per serving of CrunchieMunchies</em>. How much <b>higher</b> is the <b>average calorie count</b> of your competition?\n",
    "\n",
    "Save the answer to the variable <b>average_calories</b> and print the variable to the terminal to see the answer.\n"
   ]
  },
  {
   "cell_type": "code",
   "execution_count": 10,
   "metadata": {},
   "outputs": [
    {
     "name": "stdout",
     "output_type": "stream",
     "text": [
      "There are 60 calories per serving of CrunchieMunchies.The average calorie count in it:\n",
      "106.88311688311688\n"
     ]
    }
   ],
   "source": [
    "# your code goes here\n",
    "\n",
    "average_calories = calorie_stats.mean()\n",
    "average_calories\n",
    "print(f\"There are 60 calories per serving of CrunchieMunchies.\\\n",
    "The average calorie count in it:\\n{average_calories}\")"
   ]
  },
  {
   "cell_type": "markdown",
   "metadata": {},
   "source": [
    "4.Does the <b>average calorie count</b> adequately reflect the distribution of the dataset? Let’s sort the data and see.\n",
    "\n",
    "<b><em>Sort</em></b> the data and save the result to the variable <b>calorie_stats_sorted</b>. Print the sorted data to the terminal.\n"
   ]
  },
  {
   "cell_type": "code",
   "execution_count": 11,
   "metadata": {},
   "outputs": [
    {
     "name": "stdout",
     "output_type": "stream",
     "text": [
      "Data Sorted:\n",
      " [ 50.  50.  50.  70.  70.  80.  90.  90.  90.  90.  90.  90.  90. 100.\n",
      " 100. 100. 100. 100. 100. 100. 100. 100. 100. 100. 100. 100. 100. 100.\n",
      " 100. 100. 110. 110. 110. 110. 110. 110. 110. 110. 110. 110. 110. 110.\n",
      " 110. 110. 110. 110. 110. 110. 110. 110. 110. 110. 110. 110. 110. 110.\n",
      " 110. 110. 110. 120. 120. 120. 120. 120. 120. 120. 120. 120. 120. 130.\n",
      " 130. 140. 140. 140. 150. 150. 160.]\n"
     ]
    }
   ],
   "source": [
    "# your code goes here\n",
    "\n",
    "calorie_stats_sorted = np.sort(calorie_stats) # sorting of data\n",
    "print(\"Data Sorted:\\n\",calorie_stats_sorted)\n"
   ]
  },
  {
   "cell_type": "markdown",
   "metadata": {},
   "source": [
    "5.Do you see what I’m seeing? Looks like <b><em>the majority of the cereals are higher than the mean</em></b>. Let’s see if the <b>median</b> is a better representative of the dataset.\n",
    "\n",
    "Calculate the median of the dataset and save your answer to <b><em >median_calories</em></b>. Print the median so you can see how it compares to the mean."
   ]
  },
  {
   "cell_type": "code",
   "execution_count": 25,
   "metadata": {},
   "outputs": [
    {
     "name": "stdout",
     "output_type": "stream",
     "text": [
      "As Mean:106.88311688311688 does not represent the most choices as the majority of the cereals are higher than the mean \n",
      "While Median:110.0 reflects more choices regarding calories stats.\n"
     ]
    }
   ],
   "source": [
    "# your code goes here\n",
    "\n",
    "median_calories = np.median(calorie_stats)\n",
    "print(f\"As Mean:{average_calories} does not represent the most choices as \\\n",
    "the majority of the cereals are higher than the mean \\nWhile Median:{median_calories} \\\n",
    "reflects more choices regarding calories stats.\")"
   ]
  },
  {
   "cell_type": "markdown",
   "metadata": {},
   "source": [
    "6.While the median demonstrates that <b><em><q>at least half of our values are over 100 calories</q></em></b>, it would be more impressive to show that a significant portion of the competition has a higher calorie count that CrunchieMunchies.\n",
    "\n",
    "<b>Calculate different percentiles</b> and print them to the terminal until you find the lowest percentile that is greater than 60 calories. Save this value to the variable <b>nth_percentile</b>.\n"
   ]
  },
  {
   "cell_type": "code",
   "execution_count": 13,
   "metadata": {
    "scrolled": false
   },
   "outputs": [
    {
     "name": "stdout",
     "output_type": "stream",
     "text": [
      "So at least half of our values are over 100 calories as Median demonstrates 110.0.\n",
      "\n",
      "Now we calculate Percentiles:\n",
      "1th is the percetile of 50.0 calories\n",
      "11th is the percetile of 90.0 calories\n",
      "21th is the percetile of 100.0 calories\n",
      "31th is the percetile of 100.0 calories\n",
      "41th is the percetile of 110.0 calories\n",
      "51th is the percetile of 110.0 calories\n",
      "61th is the percetile of 110.0 calories\n",
      "71th is the percetile of 110.0 calories\n",
      "81th is the percetile of 120.0 calories\n",
      "91th is the percetile of 130.0 calories\n",
      "\n",
      "Hence the majority of the competition has a much higher calorie count.\n",
      "So percentile could not a good idea.\n"
     ]
    }
   ],
   "source": [
    "# your code goes here\n",
    "print(f\"So at least half of our values are over 100 calories as Median demonstrates {median_calories}.\\n\")\n",
    "print(\"Now we calculate Percentiles:\")\n",
    "for i in range(1,101,10): # for the sake of different values of percentile assumedd 10 intrevals stepped for 10\n",
    "    for j in calorie_stats_sorted:\n",
    "        nth_percentile = f\"{i}th is the percetile of {np.percentile(calorie_stats_sorted, i)} calories\"\n",
    "        if (calorie_stats_sorted > 60).any():\n",
    "            nth_percentile\n",
    "        \n",
    "    print(nth_percentile)\n",
    "print(\"\\nHence the majority of the competition has a much higher calorie count.\\nSo percentile could not a good idea.\")\n"
   ]
  },
  {
   "cell_type": "markdown",
   "metadata": {},
   "source": [
    "7.While the percentile shows us that<b><em><q>the majority of the competition has a much higher calorie count</q></em></b>, it’s an awkward concept to use in marketing materials.\n",
    "\n",
    "Instead, let’s calculate the percentage of cereals that <b><em><q>have more than 60 calories per serving</q></em></b>. Save your answer to the variable <b><em>more_calories</em></b> and print it to the terminal"
   ]
  },
  {
   "cell_type": "code",
   "execution_count": 14,
   "metadata": {},
   "outputs": [
    {
     "name": "stdout",
     "output_type": "stream",
     "text": [
      "\n",
      "let’s calculate the percentage of cereals that have more than 60 calories per serving.\n",
      "\n",
      "So Percentage of cereals more than 60 calories is 96%\n"
     ]
    }
   ],
   "source": [
    "# your code goes here\n",
    "print(\"\\nlet’s calculate the percentage of cereals that have more than 60 calories per serving.\")\n",
    "more_calories = np.mean(calorie_stats_sorted > 60)*100\n",
    "print(f\"\\nSo Percentage of cereals more than 60 calories is {round(more_calories)}%\") # rounded off\n"
   ]
  },
  {
   "cell_type": "markdown",
   "metadata": {},
   "source": [
    "8.Wow! That’s a really high percentage. That’s going to be very useful when we promote CrunchieMunchies. But one question is, <b><em>how much variation exists in the dataset? </b></em></q>Can we make the generalization that most cereals have around 100 calories or is the spread even greater?\n",
    "\n",
    "Calculate the amount of variation by finding the <b><em>standard deviation</em</b> Save your answer to <b><em>calorie_std</em></b> and print to the terminal. How can we incorporate this value into our analysis?"
   ]
  },
  {
   "cell_type": "code",
   "execution_count": 15,
   "metadata": {},
   "outputs": [
    {
     "data": {
      "text/plain": [
       "(374.70062405127345, 19.35718533390827)"
      ]
     },
     "execution_count": 15,
     "metadata": {},
     "output_type": "execute_result"
    }
   ],
   "source": [
    "# your code goes here\n",
    "calorie_var = calorie_stats_sorted.var()\n",
    "calorie_std = calorie_stats_sorted.std()\n",
    "calorie_var, calorie_std\n"
   ]
  },
  {
   "cell_type": "markdown",
   "metadata": {},
   "source": [
    "9.Write a short paragraph that sums up your findings and how you think this data could be used to \n",
    "<b>myCorp’s</b> advantage when marketing CrunchieMunchies.\n"
   ]
  },
  {
   "cell_type": "code",
   "execution_count": 74,
   "metadata": {},
   "outputs": [
    {
     "name": "stdout",
     "output_type": "stream",
     "text": [
      "<========================================================================>\n",
      "According to the general Dietary Guidelines;\n",
      "\n",
      "An ideal daily intake of calories varies depending on age, metabolism and levels of physical activity.\n",
      "\n",
      "Generally, the recommended daily calorie approximate intake is:\n",
      "Women = 2,000 calories a day\n",
      "Men = 2,500 a day\n",
      "Toddlers = 1,000–1,400 calories a day\n",
      "Adults in 60s and older = 1,600 calories per day\n",
      "<========================================================================>\n",
      "INSIGHTS FOR myCorps REGARDING CrunchieMunchies\n",
      "\n",
      "myCorps is a food company, which is developing a new kind of tasty, wholesome cereal called CrunchieMunchies.\n",
      "CrunchieMunchies is a balanced diet cereal containing 60 calories per serving of it.\n",
      "\n",
      "As calorie_stats Dataset containig several cereal providers having PERCENTAGE of cereals more than 60 calories is 96%. \n",
      "The variations of the cereals with higher calories as compared to CrunchieMunchies are too high as 314.701 as more\n",
      "higher calories intake could not be a good practice to be healthy.\n",
      "\n",
      "\"\"\"\"\"\"\"\"\"\"\"\"\"\"\"\"\"\"\"\"\"\"\"\"\"\"\"\"\"\"\"\"\"\"\"\"\"\"\"\"\"\"\"\"\"\"\"\"\"\"\"\"\"\"\"\"\"\"\"\"\"\"\"\n",
      "************ CASE STUDY WOMEN CALORIES INTAKE ************\n",
      "Lets have a look over an example of CALORIES INTAKE for Women;\n",
      "Women calories comsumption:\n",
      "per day = 2,000 calories\n",
      "per hour = 33.33 calories\n",
      "per 3.5 hours per day = 116.655 calories\n",
      "CrunchieMunchies cereal containing 60 calories per serving \n",
      "if a women takes just two serving units i.e. 120 calories It would be awsome for her for 3.5 hours to 4 hours approx.\n",
      "************ CASE STUDY RESULT FOR WOMEN CALORIES INTAKE ************\n",
      "CrunchieMunchies is providing a woman balanced calories neither less which could cause fatigue, nor more which could \n",
      "cause sudden weight gain could lead to cholestrol and diabetic deceases.\n",
      "**********************************************************************\n",
      "*** HENCE ====> CrunchieMunchies cereal is the best dietary choice ***\n",
      "**********************************************************************\n"
     ]
    }
   ],
   "source": [
    "print(\"<========================================================================>\")\n",
    "print(\"According to the general Dietary Guidelines;\\n\\n\\\n",
    "An ideal daily intake of calories varies depending on age, metabolism \\\n",
    "and levels of physical activity.\\n\\nGenerally, the recommended daily calorie \\\n",
    "approximate intake is:\\nWomen = 2,000 calories a day\\n\\\n",
    "Men = 2,500 a day\\nToddlers = 1,000–1,400 calories a day\\n\\\n",
    "Adults in 60s and older = 1,600 calories per day\")\n",
    "print(\"<========================================================================>\")\n",
    "print(\"INSIGHTS FOR myCorps REGARDING CrunchieMunchies\\n\\n\\\n",
    "myCorps is a food company, which is developing a new kind of tasty, wholesome cereal called CrunchieMunchies.\")\n",
    "print(\"CrunchieMunchies is a balanced diet cereal containing 60 calories per serving of it.\")\n",
    "print(f\"\\nAs calorie_stats Dataset containig several cereal providers \\\n",
    "having PERCENTAGE of cereals more than 60 calories is {round(more_calories)}%. \\\n",
    "\")\n",
    "print(f\"The variations of the cereals with higher calories as compared to \\\n",
    "CrunchieMunchies are too high as {round((calorie_var-60),3)} \\\n",
    "as more\\nhigher calories intake could not be a good practice to be healthy.\\n\")\n",
    "print('\"\"\"\"\"\"\"\"\"\"\"\"\"\"\"\"\"\"\"\"\"\"\"\"\"\"\"\"\"\"\"\"\"\"\"\"\"\"\"\"\"\"\"\"\"\"\"\"\"\"\"\"\"\"\"\"\"\"\"\"\"\"\"')\n",
    "print(\"************ CASE STUDY WOMEN CALORIES INTAKE ************\")\n",
    "print(\"Lets have a look over an example of CALORIES INTAKE for Women;\")\n",
    "print(f\"Women calories comsumption:\\nper day = 2,000 calories\\nper hour = {round(2000/60,2)} calories\\nper 3.5 \\\n",
    "hours per day = {round(2000/60,2)*3.5} calories\")\n",
    "print(f\"CrunchieMunchies cereal containing 60 calories per serving \\\n",
    "\\nif a women takes just two serving units i.e. 120 calories \\\n",
    "It would be awsome for her for 3.5 hours to 4 hours approx.\")\n",
    "print(\"************ CASE STUDY RESULT FOR WOMEN CALORIES INTAKE ************\")\n",
    "print(\"CrunchieMunchies is providing a woman balanced calories neither less which could \\\n",
    "cause fatigue, nor more which could \\ncause sudden weight gain could lead to cholestrol and diabetic deceases.\")\n",
    "print(\"**********************************************************************\")\n",
    "print(\"*** HENCE ====> CrunchieMunchies cereal is the best dietary choice ***\")\n",
    "print(\"**********************************************************************\")"
   ]
  }
 ],
 "metadata": {
  "kernelspec": {
   "display_name": "Python 3",
   "language": "python",
   "name": "python3"
  },
  "language_info": {
   "codemirror_mode": {
    "name": "ipython",
    "version": 3
   },
   "file_extension": ".py",
   "mimetype": "text/x-python",
   "name": "python",
   "nbconvert_exporter": "python",
   "pygments_lexer": "ipython3",
   "version": "3.9.1"
  }
 },
 "nbformat": 4,
 "nbformat_minor": 2
}
